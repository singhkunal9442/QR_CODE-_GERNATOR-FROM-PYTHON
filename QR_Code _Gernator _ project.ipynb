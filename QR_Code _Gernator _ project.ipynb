{
 "cells": [
  {
   "cell_type": "code",
   "execution_count": 5,
   "id": "808d5e7a-0a23-4c99-ba48-cb61aa32a3e7",
   "metadata": {},
   "outputs": [],
   "source": [
    "import qrcode as qr"
   ]
  },
  {
   "cell_type": "code",
   "execution_count": 34,
   "id": "26e780c3-e29b-4c56-8706-e19e31220aaa",
   "metadata": {},
   "outputs": [],
   "source": [
    "def qr_code(link , FrontColor   , qrBackColorl):\n",
    "    if BackColor != FillColor:\n",
    "        qr = qrcode.QRCode(box_size = 10 , border= 4)\n",
    "        qr.add_data(link)\n",
    "        image = qr.make_image(fill_color = FrontColor, back_color = qrBackColorl )\n",
    "        image.save(\"Welcomin_Kunal.png\")\n",
    "        print(\"Sccesfully Save in your drive\" )\n",
    "    \n",
    "\n"
   ]
  },
  {
   "cell_type": "code",
   "execution_count": 36,
   "id": "d9af00ec-5e8d-4dbe-aae6-20f6c8810275",
   "metadata": {},
   "outputs": [
    {
     "name": "stdin",
     "output_type": "stream",
     "text": [
      "Enter the Links You want to Present hii \n",
      "Enter the Front Colour You want in QR code  green\n",
      "Enter the Back Colour You want in QR code  orange\n"
     ]
    },
    {
     "name": "stdout",
     "output_type": "stream",
     "text": [
      "Sccesfully Save in your drive\n"
     ]
    }
   ],
   "source": [
    "Link =  input(\"Enter the Links You want to Present\")\n",
    "FillColor = input(\"Enter the Front Colour You want in QR code \")\n",
    "BackColor = input(\"Enter the Back Colour You want in QR code \")\n",
    "qr_code(Link , FillColor,BackColor)"
   ]
  },
  {
   "cell_type": "code",
   "execution_count": null,
   "id": "69ca2b7f-87df-4044-9eb0-7b422a93e7a5",
   "metadata": {},
   "outputs": [],
   "source": []
  }
 ],
 "metadata": {
  "kernelspec": {
   "display_name": "Python 3 (ipykernel)",
   "language": "python",
   "name": "python3"
  },
  "language_info": {
   "codemirror_mode": {
    "name": "ipython",
    "version": 3
   },
   "file_extension": ".py",
   "mimetype": "text/x-python",
   "name": "python",
   "nbconvert_exporter": "python",
   "pygments_lexer": "ipython3",
   "version": "3.9.13"
  }
 },
 "nbformat": 4,
 "nbformat_minor": 5
}
